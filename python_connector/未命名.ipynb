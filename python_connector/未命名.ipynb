{
 "cells": [
  {
   "cell_type": "code",
   "execution_count": 13,
   "metadata": {},
   "outputs": [],
   "source": [
    "import mysql.connector\n",
    "import csv"
   ]
  },
  {
   "cell_type": "code",
   "execution_count": 14,
   "metadata": {},
   "outputs": [],
   "source": [
    "# 读取csv文件，返回一个列表，每行为一个子列表\n",
    "\n",
    "def csv_interface(filename):\n",
    "    ls = []\n",
    "    with open(filename,'r', newline='') as fo:\n",
    "        reader = csv.reader(fo, dialect='excel', delimiter=',')\n",
    "        for row in reader:\n",
    "            ls.append(row)\n",
    "    return ls"
   ]
  },
  {
   "cell_type": "code",
   "execution_count": 56,
   "metadata": {},
   "outputs": [
    {
     "name": "stdout",
     "output_type": "stream",
     "text": [
      "['奶牛舍', '牛奶', '生菜', '', '']\n",
      "['蛋糕工坊', '蛋糕', '小麦', '牛奶', '']\n",
      "['奶油工坊', '奶油', '牛奶', '', '']\n",
      "['苹果醋工坊', '苹果醋', '苹果', '', '']\n",
      "['鸡舍', '鸡蛋', '小麦', '', '']\n",
      "['番茄酱工坊', '番茄酱', '番茄', '', '']\n",
      "['橙汁工坊', '橙汁', '橙子', '', '']\n",
      "['*水果拼盘点', '水果拼盘', '番茄', '草莓', '橙子']\n",
      "['豆腐工坊', '豆腐', '黄豆', '', '']\n",
      "['早餐店', '鸡蛋灌饼', '鸡蛋', '', '']\n",
      "['奶糖工坊', '奶糖', '草莓', '牛奶', '']\n",
      "['饼干工坊', '饼干', '小麦', '鸡蛋', '']\n",
      "['麦片工坊', '麦片', '玉米', '', '']\n",
      "['薯片工坊', '薯片', '土豆', '奶油', '']\n",
      "['白砂糖工坊', '白砂糖', '甘蔗', '', '']\n",
      "['面粉厂', '面粉', '小麦', '', '']\n",
      "['猪舍', '猪肉', '红薯', '', '']\n",
      "['香肠工坊', '香肠', '猪肉', '', '']\n",
      "['意大利面工坊', '意大利面', '面粉', '鸡蛋', '']\n",
      "['玫瑰精油工坊', '玫瑰精油', '玫瑰', '', '']\n",
      "['橄榄油工坊', '橄榄油', '橄榄', '', '']\n",
      "['*麦片巧克力工坊', '麦片巧克力', '麦片', '巧克力', '橄榄油']\n",
      "['蜂舍', '蜂蜜', '向日葵', '', '']\n",
      "['芥末工坊', '芥末', '蜂蜜', '橄榄', '鸡蛋']\n",
      "['黄牛舍', '牛肉', '玉米', '', '']\n",
      "['生面团工坊', '生面团', '小麦', '橄榄油', '']\n",
      "['花生饼干工坊', '花生饼干', '饼干', '花生', '']\n",
      "['*爆米花工坊', '爆米花', '玉米', '橄榄油', '蜂蜜']\n",
      "['羊舍', '羊毛', '黄豆', '', '']\n",
      "['甜甜圈工坊', '甜甜圈', '小麦', '橄榄油', '']\n",
      "['毛线工坊', '毛线', '羊毛', '', '']\n",
      "['葡萄酒厂', '葡萄酒', '葡萄', '', '']\n",
      "['苹果酱工坊', '苹果酱', '苹果', '蜂蜜', '']\n",
      "['养殖工坊', '皮草', '红薯', '玉米', '黄豆']\n",
      "['箱包店', '皮包', '皮草', '', '']\n",
      "['沙拉油工坊', '沙拉油', '玉米', '', '']\n",
      "['巧克力工坊', '巧克力', '可可', '甘蔗', '']\n",
      "['奶茶店', '奶茶', '白砂糖', '牛奶', '']\n",
      "['杏仁饼干工坊', '杏仁饼干', '饼干', '杏仁', '']\n",
      "['肉脯工坊', '肉脯', '牛肉', '', '']\n",
      "['烧烤店', '烤肉', '牛肉', '橄榄油', '']\n",
      "['拉面馆', '拉面', '生面团', '肉脯', '']\n",
      "['杏仁巧克力工坊', '杏仁巧克力', '巧克力', '牛奶', '杏仁']\n",
      "['鹿舍', '鹿茸', '芦荟', '', '']\n",
      "['草莓酱工坊', '草莓酱', '草莓', '蜂蜜', '']\n",
      "['樱桃糖工坊', '樱桃糖果', '樱桃', '白砂糖', '']\n",
      "['原木工坊', '木材', '红松木', '', '']\n",
      "['家具店', '家具', '木材', '皮草', '']\n",
      "['碾米厂', '米', '水稻', '', '']\n",
      "['土鸡舍', '鸡肉', '小麦', '', '']\n",
      "['元宵店', '元宵', '米', '花生', '']\n",
      "['葡萄酱工坊', '葡萄酱', '葡萄', '蜂蜜', '']\n",
      "['山羊舍', '山羊奶', '胡萝卜', '', '']\n",
      "['奶酪工坊', '奶酪', '山羊奶', '', '']\n",
      "['栗子蛋糕工坊', '栗子蛋糕', '栗子', '蛋糕', '']\n",
      "['毛衣工坊', '毛衣', '棉花', '羊毛', '']\n",
      "['玩具店', '玩具', '棉花', '毛线', '']\n",
      "['花生酱工坊', '花生酱', '花生', '奶油', '']\n",
      "['蛋黄酱工坊', '蛋黄酱', '橄榄', '鸡蛋', '']\n",
      "['牛排店', '牛排', '牛肉', '芦笋', '洋葱']\n",
      "['巧克力饼干工坊', '巧克力饼干', '巧克力', '饼干', '']\n",
      "['香水工坊', '香水', '薰衣草', '玫瑰精油', '']\n"
     ]
    }
   ],
   "source": [
    "# 读取数据\n",
    "url = \"/Users/macpro/Documents/ipynb/gongfang/gongfang.csv\"\n",
    "input_data = csv_interface(url)\n",
    "\n",
    "# 删除标题行 ， 截取对应行\n",
    "input_data_a = input_data[1:63]\n",
    "\n",
    "for i in input_data_a:\n",
    "#     i = [a for a in i[0:5] if a != '']\n",
    "    i = i[0:5]\n",
    "    print(i)"
   ]
  },
  {
   "cell_type": "code",
   "execution_count": 90,
   "metadata": {},
   "outputs": [],
   "source": [
    "# 连接数据库\n",
    "# 注意把password设为你的root口令:\n",
    "conn = mysql.connector.connect(user='root', password='Cc123456', database='test')\n",
    "cursor = conn.cursor()"
   ]
  },
  {
   "cell_type": "code",
   "execution_count": 92,
   "metadata": {},
   "outputs": [],
   "source": [
    "# 创建user表:\n",
    "cursor.execute('CREATE TABLE gongfang (id BIGINT NOT NULL AUTO_INCREMENT, name VARCHAR(20), produce VARCHAR(20), cost1 VARCHAR(20), cost2 VARCHAR(20), cost3 VARCHAR(20), PRIMARY KEY (id) ) ENGINE=InnoDB DEFAULT CHARSET=utf8;')"
   ]
  },
  {
   "cell_type": "code",
   "execution_count": 91,
   "metadata": {},
   "outputs": [],
   "source": [
    "cursor.execute('drop table gongfang')"
   ]
  },
  {
   "cell_type": "code",
   "execution_count": 94,
   "metadata": {},
   "outputs": [],
   "source": [
    "# 插入一行记录，注意MySQL的占位符是%s:\n",
    "for i in input_data_a:\n",
    "    i = i[0:5]\n",
    "#     print(i[0],i[1],i[2])\n",
    "    cursor.execute('insert into gongfang (name, produce, cost1) values (%s, %s, %s)', [i[0],i[1],i[2]])\n",
    "# cursor.execute('insert into user (name, produce, cost1) values (%s, %s, %s,)', [i[0],i[1],i[2]])\n",
    "# cursor.rowcount"
   ]
  },
  {
   "cell_type": "code",
   "execution_count": 95,
   "metadata": {},
   "outputs": [
    {
     "data": {
      "text/plain": [
       "True"
      ]
     },
     "execution_count": 95,
     "metadata": {},
     "output_type": "execute_result"
    }
   ],
   "source": [
    "# 提交事务:\n",
    "conn.commit()\n",
    "cursor.close()"
   ]
  },
  {
   "cell_type": "code",
   "execution_count": 101,
   "metadata": {},
   "outputs": [],
   "source": [
    "# 连接数据库\n",
    "# 注意把password设为你的root口令:\n",
    "conn = mysql.connector.connect(user='root', password='Cc123456', database='test')\n",
    "cursor = conn.cursor()\n",
    "# 运行查询:\n",
    "# cursor.execute('select * from gongfang where id = %s', ('1',))\n",
    "cursor.execute('select * from gongfang')"
   ]
  },
  {
   "cell_type": "code",
   "execution_count": 102,
   "metadata": {},
   "outputs": [],
   "source": [
    "values = cursor.fetchall()"
   ]
  },
  {
   "cell_type": "code",
   "execution_count": 103,
   "metadata": {},
   "outputs": [
    {
     "data": {
      "text/plain": [
       "[(1, '奶牛舍', '牛奶', '生菜', None, None),\n",
       " (2, '蛋糕工坊', '蛋糕', '小麦', None, None),\n",
       " (3, '奶油工坊', '奶油', '牛奶', None, None),\n",
       " (4, '苹果醋工坊', '苹果醋', '苹果', None, None),\n",
       " (5, '鸡舍', '鸡蛋', '小麦', None, None),\n",
       " (6, '番茄酱工坊', '番茄酱', '番茄', None, None),\n",
       " (7, '橙汁工坊', '橙汁', '橙子', None, None),\n",
       " (8, '*水果拼盘点', '水果拼盘', '番茄', None, None),\n",
       " (9, '豆腐工坊', '豆腐', '黄豆', None, None),\n",
       " (10, '早餐店', '鸡蛋灌饼', '鸡蛋', None, None),\n",
       " (11, '奶糖工坊', '奶糖', '草莓', None, None),\n",
       " (12, '饼干工坊', '饼干', '小麦', None, None),\n",
       " (13, '麦片工坊', '麦片', '玉米', None, None),\n",
       " (14, '薯片工坊', '薯片', '土豆', None, None),\n",
       " (15, '白砂糖工坊', '白砂糖', '甘蔗', None, None),\n",
       " (16, '面粉厂', '面粉', '小麦', None, None),\n",
       " (17, '猪舍', '猪肉', '红薯', None, None),\n",
       " (18, '香肠工坊', '香肠', '猪肉', None, None),\n",
       " (19, '意大利面工坊', '意大利面', '面粉', None, None),\n",
       " (20, '玫瑰精油工坊', '玫瑰精油', '玫瑰', None, None),\n",
       " (21, '橄榄油工坊', '橄榄油', '橄榄', None, None),\n",
       " (22, '*麦片巧克力工坊', '麦片巧克力', '麦片', None, None),\n",
       " (23, '蜂舍', '蜂蜜', '向日葵', None, None),\n",
       " (24, '芥末工坊', '芥末', '蜂蜜', None, None),\n",
       " (25, '黄牛舍', '牛肉', '玉米', None, None),\n",
       " (26, '生面团工坊', '生面团', '小麦', None, None),\n",
       " (27, '花生饼干工坊', '花生饼干', '饼干', None, None),\n",
       " (28, '*爆米花工坊', '爆米花', '玉米', None, None),\n",
       " (29, '羊舍', '羊毛', '黄豆', None, None),\n",
       " (30, '甜甜圈工坊', '甜甜圈', '小麦', None, None),\n",
       " (31, '毛线工坊', '毛线', '羊毛', None, None),\n",
       " (32, '葡萄酒厂', '葡萄酒', '葡萄', None, None),\n",
       " (33, '苹果酱工坊', '苹果酱', '苹果', None, None),\n",
       " (34, '养殖工坊', '皮草', '红薯', None, None),\n",
       " (35, '箱包店', '皮包', '皮草', None, None),\n",
       " (36, '沙拉油工坊', '沙拉油', '玉米', None, None),\n",
       " (37, '巧克力工坊', '巧克力', '可可', None, None),\n",
       " (38, '奶茶店', '奶茶', '白砂糖', None, None),\n",
       " (39, '杏仁饼干工坊', '杏仁饼干', '饼干', None, None),\n",
       " (40, '肉脯工坊', '肉脯', '牛肉', None, None),\n",
       " (41, '烧烤店', '烤肉', '牛肉', None, None),\n",
       " (42, '拉面馆', '拉面', '生面团', None, None),\n",
       " (43, '杏仁巧克力工坊', '杏仁巧克力', '巧克力', None, None),\n",
       " (44, '鹿舍', '鹿茸', '芦荟', None, None),\n",
       " (45, '草莓酱工坊', '草莓酱', '草莓', None, None),\n",
       " (46, '樱桃糖工坊', '樱桃糖果', '樱桃', None, None),\n",
       " (47, '原木工坊', '木材', '红松木', None, None),\n",
       " (48, '家具店', '家具', '木材', None, None),\n",
       " (49, '碾米厂', '米', '水稻', None, None),\n",
       " (50, '土鸡舍', '鸡肉', '小麦', None, None),\n",
       " (51, '元宵店', '元宵', '米', None, None),\n",
       " (52, '葡萄酱工坊', '葡萄酱', '葡萄', None, None),\n",
       " (53, '山羊舍', '山羊奶', '胡萝卜', None, None),\n",
       " (54, '奶酪工坊', '奶酪', '山羊奶', None, None),\n",
       " (55, '栗子蛋糕工坊', '栗子蛋糕', '栗子', None, None),\n",
       " (56, '毛衣工坊', '毛衣', '棉花', None, None),\n",
       " (57, '玩具店', '玩具', '棉花', None, None),\n",
       " (58, '花生酱工坊', '花生酱', '花生', None, None),\n",
       " (59, '蛋黄酱工坊', '蛋黄酱', '橄榄', None, None),\n",
       " (60, '牛排店', '牛排', '牛肉', None, None),\n",
       " (61, '巧克力饼干工坊', '巧克力饼干', '巧克力', None, None),\n",
       " (62, '香水工坊', '香水', '薰衣草', None, None)]"
      ]
     },
     "execution_count": 103,
     "metadata": {},
     "output_type": "execute_result"
    }
   ],
   "source": [
    "values"
   ]
  },
  {
   "cell_type": "code",
   "execution_count": 104,
   "metadata": {},
   "outputs": [
    {
     "data": {
      "text/plain": [
       "True"
      ]
     },
     "execution_count": 104,
     "metadata": {},
     "output_type": "execute_result"
    }
   ],
   "source": [
    "cursor.close()"
   ]
  },
  {
   "cell_type": "code",
   "execution_count": 105,
   "metadata": {},
   "outputs": [],
   "source": [
    "conn.close()"
   ]
  },
  {
   "cell_type": "code",
   "execution_count": null,
   "metadata": {},
   "outputs": [],
   "source": []
  }
 ],
 "metadata": {
  "kernelspec": {
   "display_name": "py3env",
   "language": "python",
   "name": "py3env"
  },
  "language_info": {
   "codemirror_mode": {
    "name": "ipython",
    "version": 3
   },
   "file_extension": ".py",
   "mimetype": "text/x-python",
   "name": "python",
   "nbconvert_exporter": "python",
   "pygments_lexer": "ipython3",
   "version": "3.7.3"
  }
 },
 "nbformat": 4,
 "nbformat_minor": 2
}
