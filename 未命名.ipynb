{
 "cells": [
  {
   "cell_type": "code",
   "execution_count": 1,
   "metadata": {},
   "outputs": [],
   "source": [
    "import mysql.connector\n",
    "import csv"
   ]
  },
  {
   "cell_type": "code",
   "execution_count": 2,
   "metadata": {},
   "outputs": [],
   "source": [
    "# 读取csv文件，返回一个列表，每行为一个子列表\n",
    "\n",
    "def csv_interface(filename):\n",
    "    ls = []\n",
    "    with open(filename,'r', newline='') as fo:\n",
    "        reader = csv.reader(fo, dialect='excel', delimiter=',')\n",
    "        for row in reader:\n",
    "            ls.append(row)\n",
    "    return ls"
   ]
  },
  {
   "cell_type": "code",
   "execution_count": 3,
   "metadata": {},
   "outputs": [],
   "source": [
    "insert_to = csv_interface(\"shanshan.csv\")"
   ]
  },
  {
   "cell_type": "code",
   "execution_count": 4,
   "metadata": {},
   "outputs": [
    {
     "data": {
      "text/plain": [
       "[['编号', '发现单位', '日期', '孕妇姓名', '丈夫姓名', '地址', '电话', '高危因素'],\n",
       " ['1', '妇幼', '2020-1-1', '离圆', '周林', '欧宁', '13123521831', '剖宫产'],\n",
       " ['2', '市立', '2020-1-2', '一三', '二四', '玉山', '13123521832', '人流3次'],\n",
       " ['3', '妇幼', '2020-1-3', '思三', '张三', '房道', '13123521833', '糖尿病'],\n",
       " ['4', '市立', '2020-1-4', '李四', '吴嚎', '小松', '13123521834', '妊娠期高血压'],\n",
       " ['5', '妇幼', '2020-1-5', '刘醒', '张强', '小桥', '13123521835', 'ICP'],\n",
       " ['6', '市立', '2020-1-6', '刘敏', '林星星', '吉阳', '13123521836', '乙肝大三阳'],\n",
       " ['7', '妇幼', '2020-1-7', '子浩', '炸鸡腿', '东游', '13123521837', '剖宫产'],\n",
       " ['8', '市立', '2020-1-8', '熏脖子', '刘颖', '东峰', '13123521838', '人流4次'],\n",
       " ['9', '妇幼', '2020-1-9', '一三', '二四', '川石', '13123521839', '糖尿病'],\n",
       " ['10', '市立', '2020-1-10-', '李四', '吴嚎', '芝山', '13123521840', '妊娠期高血压'],\n",
       " ['11', '妇幼', '2020-1-11-', '刘醒', '张强', '通济', '13123521841', 'ICP'],\n",
       " ['12', '市立', '2020-1-12-', '刘敏', '林星星', '南雅', '13123521842', '乙肝大三阳']]"
      ]
     },
     "execution_count": 4,
     "metadata": {},
     "output_type": "execute_result"
    }
   ],
   "source": [
    "insert_to"
   ]
  },
  {
   "cell_type": "code",
   "execution_count": 5,
   "metadata": {},
   "outputs": [],
   "source": [
    "# 连接数据库\n",
    "# 注意把password设为你的root口令:\n",
    "conn = mysql.connector.connect(user='root', password='Cc123456', database='shanshan')\n",
    "cursor = conn.cursor()"
   ]
  },
  {
   "cell_type": "code",
   "execution_count": 6,
   "metadata": {},
   "outputs": [],
   "source": [
    "table_name = \"shanshan\"\n",
    "for i in insert_to[1:]:\n",
    "#     cursor.execute('insert into shanshan (`编号`, `发现单位`, `日期`, `孕妇名字`) values (%s, %s, %s, %s) on duplicate key update `电话`=%s',[i[0],i[1], i[2], i[3], i[6]])\n",
    "    cursor.execute('insert into shanshan (`发现单位`, `日期`, `孕妇名字`) values (%s, %s, %s) on duplicate key update `电话`=%s, `高危因素`=%s',[i[1], i[2], i[3], i[6],i[7]])\n",
    "#     print('insert into shanshan (`编号`, `发现单位`, `日期`, `孕妇名字`) values (%s, %s, %s, %s) on duplicate key update `电话`=%s',[i[0],i[1], i[2], i[3]])\n",
    "#     print('insert into shanshan (`编号`, `发现单位`, `日期`, `孕妇名字`) values ({}, {}, {}, {})'.format(i[0],i[1],i[2],i[3]))"
   ]
  },
  {
   "cell_type": "code",
   "execution_count": 7,
   "metadata": {},
   "outputs": [
    {
     "data": {
      "text/plain": [
       "True"
      ]
     },
     "execution_count": 7,
     "metadata": {},
     "output_type": "execute_result"
    }
   ],
   "source": [
    "# 提交事务:\n",
    "conn.commit()\n",
    "cursor.close()\n"
   ]
  },
  {
   "cell_type": "code",
   "execution_count": 8,
   "metadata": {},
   "outputs": [],
   "source": [
    "conn.close()"
   ]
  },
  {
   "cell_type": "code",
   "execution_count": 9,
   "metadata": {},
   "outputs": [
    {
     "ename": "InterfaceError",
     "evalue": "No result set to fetch from.",
     "output_type": "error",
     "traceback": [
      "\u001b[0;31m---------------------------------------------------------------------------\u001b[0m",
      "\u001b[0;31mInterfaceError\u001b[0m                            Traceback (most recent call last)",
      "\u001b[0;32m<ipython-input-9-203566801c37>\u001b[0m in \u001b[0;36m<module>\u001b[0;34m\u001b[0m\n\u001b[0;32m----> 1\u001b[0;31m \u001b[0mvalues\u001b[0m \u001b[0;34m=\u001b[0m \u001b[0mcursor\u001b[0m\u001b[0;34m.\u001b[0m\u001b[0mfetchall\u001b[0m\u001b[0;34m(\u001b[0m\u001b[0;34m)\u001b[0m\u001b[0;34m\u001b[0m\u001b[0;34m\u001b[0m\u001b[0m\n\u001b[0m\u001b[1;32m      2\u001b[0m \u001b[0mvalues\u001b[0m\u001b[0;34m\u001b[0m\u001b[0;34m\u001b[0m\u001b[0m\n",
      "\u001b[0;32m~/python3/dot/py3env/lib/python3.7/site-packages/mysql_connector_python-8.0.19-py3.7.egg/mysql/connector/cursor.py\u001b[0m in \u001b[0;36mfetchall\u001b[0;34m(self)\u001b[0m\n\u001b[1;32m    893\u001b[0m     \u001b[0;32mdef\u001b[0m \u001b[0mfetchall\u001b[0m\u001b[0;34m(\u001b[0m\u001b[0mself\u001b[0m\u001b[0;34m)\u001b[0m\u001b[0;34m:\u001b[0m\u001b[0;34m\u001b[0m\u001b[0;34m\u001b[0m\u001b[0m\n\u001b[1;32m    894\u001b[0m         \u001b[0;32mif\u001b[0m \u001b[0;32mnot\u001b[0m \u001b[0mself\u001b[0m\u001b[0;34m.\u001b[0m\u001b[0m_have_unread_result\u001b[0m\u001b[0;34m(\u001b[0m\u001b[0;34m)\u001b[0m\u001b[0;34m:\u001b[0m\u001b[0;34m\u001b[0m\u001b[0;34m\u001b[0m\u001b[0m\n\u001b[0;32m--> 895\u001b[0;31m             \u001b[0;32mraise\u001b[0m \u001b[0merrors\u001b[0m\u001b[0;34m.\u001b[0m\u001b[0mInterfaceError\u001b[0m\u001b[0;34m(\u001b[0m\u001b[0;34m\"No result set to fetch from.\"\u001b[0m\u001b[0;34m)\u001b[0m\u001b[0;34m\u001b[0m\u001b[0;34m\u001b[0m\u001b[0m\n\u001b[0m\u001b[1;32m    896\u001b[0m         \u001b[0;34m(\u001b[0m\u001b[0mrows\u001b[0m\u001b[0;34m,\u001b[0m \u001b[0meof\u001b[0m\u001b[0;34m)\u001b[0m \u001b[0;34m=\u001b[0m \u001b[0mself\u001b[0m\u001b[0;34m.\u001b[0m\u001b[0m_connection\u001b[0m\u001b[0;34m.\u001b[0m\u001b[0mget_rows\u001b[0m\u001b[0;34m(\u001b[0m\u001b[0;34m)\u001b[0m\u001b[0;34m\u001b[0m\u001b[0;34m\u001b[0m\u001b[0m\n\u001b[1;32m    897\u001b[0m         \u001b[0;32mif\u001b[0m \u001b[0mself\u001b[0m\u001b[0;34m.\u001b[0m\u001b[0m_nextrow\u001b[0m\u001b[0;34m[\u001b[0m\u001b[0;36m0\u001b[0m\u001b[0;34m]\u001b[0m\u001b[0;34m:\u001b[0m\u001b[0;34m\u001b[0m\u001b[0;34m\u001b[0m\u001b[0m\n",
      "\u001b[0;31mInterfaceError\u001b[0m: No result set to fetch from."
     ]
    }
   ],
   "source": [
    "values = cursor.fetchall()\n",
    "values"
   ]
  },
  {
   "cell_type": "code",
   "execution_count": null,
   "metadata": {},
   "outputs": [],
   "source": []
  }
 ],
 "metadata": {
  "kernelspec": {
   "display_name": "py3env",
   "language": "python",
   "name": "py3env"
  },
  "language_info": {
   "codemirror_mode": {
    "name": "ipython",
    "version": 3
   },
   "file_extension": ".py",
   "mimetype": "text/x-python",
   "name": "python",
   "nbconvert_exporter": "python",
   "pygments_lexer": "ipython3",
   "version": "3.7.3"
  }
 },
 "nbformat": 4,
 "nbformat_minor": 2
}
